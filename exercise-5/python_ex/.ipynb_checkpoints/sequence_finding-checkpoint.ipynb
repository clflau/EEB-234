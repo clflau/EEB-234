{
 "cells": [
  {
   "cell_type": "markdown",
   "metadata": {},
   "source": [
    "###### The data file we will be using is the Marra2014_data.fasta file that you have already used for several CSB assignments. Recall the structure and contents of fasta files- all such files include header lines that begin with a > character, and lines in between headings are DNA or protein sequences.\n",
    "\n",
    "###### The task for this week is to write a python script that will import in this data file from wherever it is currently stored (CSB/unix/data/), and export a csv-formatted data file to the current working directory. The csv file should have two columns: The first column of the CSV output should be the name of each unique contig; the second column should be the number of times the sequence of nucleotide sequence AATG appears in that contig."
   ]
  },
  {
   "cell_type": "code",
   "execution_count": null,
   "metadata": {
    "collapsed": true
   },
   "outputs": [],
   "source": [
    "#pseudocode\n",
    "#open data file in jupyter notebook\n",
    "#read data file line-by-line\n",
    "#for contig name, grep capture ^>(\\w*)\n",
    "#for number of times AATG appears, grep for AATG\n",
    "#write data file as .csv to current directory"
   ]
  }
 ],
 "metadata": {
  "anaconda-cloud": {},
  "kernelspec": {
   "display_name": "Python [default]",
   "language": "python",
   "name": "python3"
  },
  "language_info": {
   "codemirror_mode": {
    "name": "ipython",
    "version": 3
   },
   "file_extension": ".py",
   "mimetype": "text/x-python",
   "name": "python",
   "nbconvert_exporter": "python",
   "pygments_lexer": "ipython3",
   "version": "3.5.2"
  }
 },
 "nbformat": 4,
 "nbformat_minor": 2
}
