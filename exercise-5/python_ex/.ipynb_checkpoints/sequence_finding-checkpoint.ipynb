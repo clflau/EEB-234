{
 "cells": [
  {
   "cell_type": "markdown",
   "metadata": {},
   "source": [
    "###### The data file we will be using is the Marra2014_data.fasta file that you have already used for several CSB assignments. Recall the structure and contents of fasta files- all such files include header lines that begin with a > character, and lines in between headings are DNA or protein sequences.\n",
    "\n",
    "###### The task for this week is to write a python script that will import in this data file from wherever it is currently stored (CSB/unix/data/), and export a csv-formatted data file to the current working directory. The csv file should have two columns: The first column of the CSV output should be the name of each unique contig; the second column should be the number of times the sequence of nucleotide sequence AATG appears in that contig."
   ]
  },
  {
   "cell_type": "code",
   "execution_count": 128,
   "metadata": {
    "collapsed": false
   },
   "outputs": [],
   "source": [
    "#pseudocode\n",
    "#open data file in jupyter notebook\n",
    "#read data file line-by-line\n",
    "#for contig name, grep capture ^>(\\w*)\n",
    "#for number of times AATG appears, grep for AATG\n",
    "#write data file as .csv to current directory\n",
    "#NOTE: FILE CONTAINS SEQUENCE IN BOTH UPPER AND LOWER CASE!\n",
    "\n",
    "import re\n",
    "with open(\"/home/eeb177-student/CSB/unix/data/Marra2014_data.fasta\", \"r\") as Marra_data_file:\n",
    "#     get contig names\n",
    "    contigs = []\n",
    "    for line in Marra_data_file:\n",
    "        if (re.match(pattern = \">\", string = line)):\n",
    "            contig_name = re.search(\">(\\w*)\\s.*\", line).group(1)\n",
    "            contigs.append(contig_name)\n",
    "contigs = [\"contig_name\"] + contigs\n",
    "            \n",
    "with open(\"/home/eeb177-student/CSB/unix/data/Marra2014_data.fasta\", \"r\") as Marra_data_file:\n",
    "#     get aatg counts\n",
    "    aatg_count = []\n",
    "    Marra_data = Marra_data_file.read()\n",
    "    Marra_list = Marra_data.replace(\"\\n\", \"\")\n",
    "    Marra_list = Marra_list.split(\">\")\n",
    "#     print(Marra_list[1: ])\n",
    "    for elem in Marra_list[1: ]:\n",
    "        all_aatg = re.findall(\"AATG\", elem.upper()) \n",
    "        aatg_count.append(len(all_aatg))\n",
    "aatg_count = [\"aatg_count\"] + aatg_count\n",
    "\n",
    "# print(len(contigs) == len(aatg_count))\n",
    "\n",
    "ticker = 0\n",
    "outfile = open(\"Marra_aatg_counter.csv\", \"w\")\n",
    "while ticker < len(contigs):\n",
    "    outfile.write(contigs[ticker] + \", \" + str(aatg_count[ticker]) + \"\\n\")\n",
    "    ticker = ticker + 1\n",
    "outfile.close()"
   ]
  },
  {
   "cell_type": "code",
   "execution_count": null,
   "metadata": {
    "collapsed": true
   },
   "outputs": [],
   "source": []
  }
 ],
 "metadata": {
  "anaconda-cloud": {},
  "kernelspec": {
   "display_name": "Python [default]",
   "language": "python",
   "name": "python3"
  },
  "language_info": {
   "codemirror_mode": {
    "name": "ipython",
    "version": 3
   },
   "file_extension": ".py",
   "mimetype": "text/x-python",
   "name": "python",
   "nbconvert_exporter": "python",
   "pygments_lexer": "ipython3",
   "version": "3.5.2"
  }
 },
 "nbformat": 4,
 "nbformat_minor": 2
}
