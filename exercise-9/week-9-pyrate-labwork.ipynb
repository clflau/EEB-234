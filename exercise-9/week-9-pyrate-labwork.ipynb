{
 "cells": [
  {
   "cell_type": "markdown",
   "metadata": {},
   "source": [
    "### How many fossils are included in the dataset?\n",
    "```\n",
    "tail -n +2 canid_occ.csv | wc -l\n",
    "```\n",
    "2946\n",
    "\n",
    "\n",
    "### How many fossils have been identified to genus-level only? How many to species-level?\n",
    "```\n",
    "tail -n +2 canid_occ.csv | grep genus | wc -l\n",
    "tail -n +2 canid_occ.csv | grep species | wc -l\n",
    "```\n",
    "614 genus-level entries;\n",
    "2107 species-level entries\n",
    "\n",
    "### How many unique accepted names are part of this dataset?\n",
    "```\n",
    "tail -n +2 canid_occ.csv | cut -d \",\" -f 6 | sort | uniq | wc -l\n",
    "```\n",
    "211\n",
    "\n"
   ]
  },
  {
   "cell_type": "markdown",
   "metadata": {},
   "source": [
    "### How can we change the sampling frequency of our PyRate run?\n",
    "-s\n",
    "\n",
    "### What does the -n flag achieve?\n",
    "specifies mcmc generations"
   ]
  },
  {
   "cell_type": "markdown",
   "metadata": {},
   "source": [
    "###### Once your PyRate run has completed, you should see several new files in the exercise-9 directory. Within exercise-9, you shuold now see the file canid_occ_PyRate.pyc and the directory pyrate_mcmc_logs; within that directory, you should see **canid_occ_1_marginal_rates.log, canid_occ_1_mcmc.log, and canid_occ_1_sum.txt.**\n",
    "\n",
    "###### To Do:\n",
    "\n",
    "###### In your jupyter notebook above, write a summary of what each of these three files in pyrate_mcmc_logs show. You can find explanations on the PyRate github page.\n",
    "\n",
    "\n",
    "sum.txt: Text file providing the complete list of settings used in the analysis.\n",
    "\n",
    "mcmc.log: Tab-separated table with the MCMC samples of the posterior, prior, and all the relevant parameters.\n",
    "\n",
    "marginal_rates.log: Tab-separated table with the posterior samples of the marginal rates of speciation, extinction, and net diversification, calculated within 1 time unit (typically Myr).\n"
   ]
  },
  {
   "cell_type": "markdown",
   "metadata": {
    "collapsed": true
   },
   "source": [
    "# Homework\n",
    "\n",
    "### 1) a. Describe the changes in Speciation rates across the Canidae lineage. b. Describe the changes in Extinction rates across the Canidae lineage. c. Describe the changes in Diversification rates across the Canidae lineage.\n",
    "\n",
    "\n",
    "a. Speciation rates dropped at ~20Ma and increased at 5Ma.\n",
    "\n",
    "b. Extinction rates went up very close to recent (~3Ma)\n",
    "\n",
    "c. The net diversification rates plunged to negative at ~3Ma.\n",
    "\n",
    "\n",
    "### 6) Create RTT plots for this new run. Do you see anything different about these RTT plots compared to the ones you had made with only 250000 steps in the MCMC chain?\n",
    "\n",
    "The speciation rate, extinction rate, net diversification rate graphs are similar in shape between the two runs; however, the confidence intervals for the longer run are narrower. The longevity graphs have different shape; the longer run shows a plot with higher longevity (~11Myr) in the more ancient species whereas the 250K generations run shows a plot with decreased longevity (~7Myr) around 50Ma."
   ]
  },
  {
   "cell_type": "markdown",
   "metadata": {
    "collapsed": true
   },
   "source": []
  }
 ],
 "metadata": {
  "anaconda-cloud": {},
  "kernelspec": {
   "display_name": "Python [default]",
   "language": "python",
   "name": "python3"
  },
  "language_info": {
   "codemirror_mode": {
    "name": "ipython",
    "version": 3
   },
   "file_extension": ".py",
   "mimetype": "text/x-python",
   "name": "python",
   "nbconvert_exporter": "python",
   "pygments_lexer": "ipython3",
   "version": "3.5.2"
  }
 },
 "nbformat": 4,
 "nbformat_minor": 2
}
